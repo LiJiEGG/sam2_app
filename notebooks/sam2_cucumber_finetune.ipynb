{
  "nbformat": 4,
  "nbformat_minor": 0,
  "metadata": {
    "colab": {
      "provenance": [],
      "authorship_tag": "ABX9TyNzsOGjupBIGUT/ogNyJj8s",
      "include_colab_link": true
    },
    "kernelspec": {
      "name": "python3",
      "display_name": "Python 3"
    },
    "language_info": {
      "name": "python"
    }
  },
  "cells": [
    {
      "cell_type": "markdown",
      "metadata": {
        "id": "view-in-github",
        "colab_type": "text"
      },
      "source": [
        "<a href=\"https://colab.research.google.com/github/LiJiEGG/sam2_app/blob/main/notebooks/sam2_cucumber_finetune.ipynb\" target=\"_parent\"><img src=\"https://colab.research.google.com/assets/colab-badge.svg\" alt=\"Open In Colab\"/></a>"
      ]
    },
    {
      "cell_type": "code",
      "execution_count": null,
      "metadata": {
        "id": "qWjIXJAAhZvP"
      },
      "outputs": [],
      "source": [
        "!git clone https://github.com/facebookresearch/sam2.git"
      ]
    },
    {
      "cell_type": "code",
      "source": [
        "%cd ./sam2/"
      ],
      "metadata": {
        "id": "L6kUt1T8hcwR"
      },
      "execution_count": null,
      "outputs": []
    },
    {
      "cell_type": "code",
      "source": [
        "!cd ./checkpoints && ./download_ckpts.sh"
      ],
      "metadata": {
        "id": "pIuX-gfRheBW"
      },
      "execution_count": null,
      "outputs": []
    },
    {
      "cell_type": "code",
      "source": [
        "from sam2.build_sam import build_sam2\n",
        "from sam2.sam2_image_predictor import SAM2ImagePredictor\n",
        "\n",
        "sam2_checkpoint = \"/content/sam2/checkpoints/sam2.1_hiera_small.pt\"\n",
        "model_cfg = \"configs/sam2.1/sam2.1_hiera_s.yaml\"\n",
        "sam2_model = build_sam2(model_cfg, sam2_checkpoint, device=\"cuda\")\n",
        "predictor = SAM2ImagePredictor(sam2_model)"
      ],
      "metadata": {
        "id": "Jp2zpR5nhgQv"
      },
      "execution_count": null,
      "outputs": []
    },
    {
      "cell_type": "code",
      "source": [
        "import numpy as np\n",
        "import cv2\n",
        "import os\n",
        "\n",
        "def read_data(data_dir):\n",
        "    data = []\n",
        "    for name in os.listdir(data_dir):\n",
        "        rgb_path = os.path.join(data_dir, name, \"rgb.png\")\n",
        "        depth_path = os.path.join(data_dir, name, \"depth.png\")\n",
        "        ir_path = os.path.join(data_dir, name, \"ir.png\")\n",
        "        label_path = os.path.join(data_dir, name, \"label.png\")\n",
        "        data.append({\"rgb\": rgb_path, \"depth\": depth_path, \"ir\": ir_path, \"label\": label_path})\n",
        "    return data\n",
        "\n",
        "def preprocess(image):\n",
        "    # 图像预处理操作，如调整大小、归一化等\n",
        "    return image"
      ],
      "metadata": {
        "id": "JHjts_s4hh8g"
      },
      "execution_count": null,
      "outputs": []
    },
    {
      "cell_type": "code",
      "source": [
        "import torch\n",
        "\n",
        "optimizer = torch.optim.AdamW(params=predictor.model.parameters(), lr=1e-5, weight_decay=4e-5)\n",
        "scaler = torch.cuda.amp.GradScaler()\n",
        "\n",
        "for epoch in range(num_epochs):\n",
        "    for batch in data_loader:\n",
        "        rgb = preprocess(batch['rgb'])\n",
        "        depth = preprocess(batch['depth'])\n",
        "        ir = preprocess(batch['ir'])\n",
        "        label = batch['label']\n",
        "\n",
        "        # 前向传播\n",
        "        with torch.cuda.amp.autocast():\n",
        "            output = predictor(rgb, depth, ir)\n",
        "            loss = loss_function(output, label)\n",
        "\n",
        "        # 反向传播\n",
        "        optimizer.zero_grad()\n",
        "        scaler.scale(loss).backward()\n",
        "        scaler.step(optimizer)\n",
        "        scaler.update()"
      ],
      "metadata": {
        "id": "bUaOX1Wkhjgz"
      },
      "execution_count": null,
      "outputs": []
    },
    {
      "cell_type": "code",
      "source": [
        "import torch\n",
        "import os\n",
        "import cv2\n",
        "import numpy as np\n",
        "import pandas as pd\n",
        "from torch.utils.data import Dataset, DataLoader\n",
        "\n",
        "class MultiModalCucumberDataset(Dataset):\n",
        "    def __init__(self, csv_file, data_root, transform=None):\n",
        "        \"\"\"\n",
        "        Args:\n",
        "            csv_file (str): 包含图像路径及标签的 CSV 文件。\n",
        "            data_root (str): 数据存储的根目录。\n",
        "            transform (callable, optional): 预处理函数，如归一化或数据增强。\n",
        "        \"\"\"\n",
        "        self.data_info = pd.read_csv(csv_file)\n",
        "        self.data_root = data_root\n",
        "        self.transform = transform\n",
        "\n",
        "    def __len__(self):\n",
        "        return len(self.data_info)\n",
        "\n",
        "    def __getitem__(self, idx):\n",
        "        # 读取 RGB、深度、IR 图像路径\n",
        "        rgb_path = os.path.join(self.data_root, self.data_info.iloc[idx]['rgb'])\n",
        "        depth_path = os.path.join(self.data_root, self.data_info.iloc[idx]['depth'])\n",
        "        ir_path = os.path.join(self.data_root, self.data_info.iloc[idx]['ir'])\n",
        "\n",
        "        # 读取图像数据\n",
        "        rgb_img = cv2.imread(rgb_path)  # BGR格式\n",
        "        rgb_img = cv2.cvtColor(rgb_img, cv2.COLOR_BGR2RGB)  # 转为 RGB 格式\n",
        "\n",
        "        depth_img = np.load(depth_path)  # 读取 `.npy` 格式的深度图\n",
        "        ir_img = np.load(ir_path)  # 读取 `.npy` 格式的 IR 图像\n",
        "\n",
        "        # 读取标签信息（如株高）\n",
        "        label = self.data_info.iloc[idx]['height']\n",
        "\n",
        "        # 归一化处理\n",
        "        rgb_img = rgb_img.astype(np.float32) / 255.0\n",
        "        depth_img = depth_img.astype(np.float32) / np.max(depth_img)  # 归一化\n",
        "        ir_img = ir_img.astype(np.float32) / np.max(ir_img)  # 归一化\n",
        "\n",
        "        # 转换为 PyTorch 张量\n",
        "        rgb_img = torch.tensor(rgb_img).permute(2, 0, 1)  # 形状调整为 (C, H, W)\n",
        "        depth_img = torch.tensor(depth_img).unsqueeze(0)  # (1, H, W)\n",
        "        ir_img = torch.tensor(ir_img).unsqueeze(0)  # (1, H, W)\n",
        "        label = torch.tensor(label, dtype=torch.float32)\n",
        "\n",
        "        # 应用数据增强\n",
        "        if self.transform:\n",
        "            rgb_img = self.transform(rgb_img)\n",
        "\n",
        "        return {\n",
        "            'rgb': rgb_img,\n",
        "            'depth': depth_img,\n",
        "            'ir': ir_img,\n",
        "            'label': label\n",
        "        }\n",
        "\n",
        "# 示例：创建数据集\n",
        "csv_file = \"cucumber_dataset.csv\"\n",
        "data_root = \"data/\"\n",
        "dataset = MultiModalCucumberDataset(csv_file, data_root)\n",
        "\n",
        "# 创建 DataLoader\n",
        "dataloader = DataLoader(dataset, batch_size=8, shuffle=True, num_workers=4)"
      ],
      "metadata": {
        "id": "9ZX1Wcg_8kGQ"
      },
      "execution_count": null,
      "outputs": []
    }
  ]
}